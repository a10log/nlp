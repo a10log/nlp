{
 "cells": [
  {
   "cell_type": "markdown",
   "id": "5323a304",
   "metadata": {},
   "source": [
    "# Классификация текста"
   ]
  },
  {
   "cell_type": "markdown",
   "id": "ca872855",
   "metadata": {},
   "source": [
    "## Cодержание\n",
    "- [Data preprocessing](#Data-preprocessing)\n",
    "- [Embeddings](#Embeddings)\n",
    "- [Dataloader](#Dataloader)\n",
    "- [CNN](#CNN)"
   ]
  },
  {
   "cell_type": "code",
   "execution_count": 1,
   "id": "ecd4af63",
   "metadata": {},
   "outputs": [],
   "source": [
    "import os\n",
    "import re\n",
    "import torch\n",
    "import numpy as np\n",
    "import pandas as pd\n",
    "import matplotlib.pyplot as plt\n",
    "import torch.nn.functional as F\n",
    "\n",
    "\n",
    "from tqdm import tqdm\n",
    "from typing import Tuple, Dict\n",
    "from torch import nn\n",
    "from torch.utils.data import DataLoader\n",
    "from torch.nn.utils.rnn import pad_sequence\n",
    "\n",
    "from gensim.models import Word2Vec\n",
    "from nltk.corpus import stopwords\n",
    "from nltk.stem import WordNetLemmatizer"
   ]
  },
  {
   "cell_type": "code",
   "execution_count": 2,
   "id": "9c585673",
   "metadata": {},
   "outputs": [
    {
     "data": {
      "text/plain": [
       "device(type='cpu')"
      ]
     },
     "execution_count": 2,
     "metadata": {},
     "output_type": "execute_result"
    }
   ],
   "source": [
    "device = torch.device('cuda' if torch.cuda.is_available() else 'cpu')\n",
    "device"
   ]
  },
  {
   "cell_type": "code",
   "execution_count": 3,
   "id": "61a82185",
   "metadata": {},
   "outputs": [],
   "source": [
    "os.chdir('../../')"
   ]
  },
  {
   "cell_type": "markdown",
   "id": "ab488c38",
   "metadata": {},
   "source": [
    "## Data preprocessing"
   ]
  },
  {
   "cell_type": "code",
   "execution_count": 5,
   "id": "78e68f6d",
   "metadata": {},
   "outputs": [],
   "source": [
    "base_data_path = 'data/datasets/ag_news'\n",
    "\n",
    "train_data_path = os.path.join(base_data_path, 'ag_news_train.csv')\n",
    "test_data_path = os.path.join(base_data_path, 'ag_news_test.csv')"
   ]
  },
  {
   "cell_type": "code",
   "execution_count": 6,
   "id": "6158bc9c",
   "metadata": {},
   "outputs": [],
   "source": [
    "train_data = pd.read_csv(train_data_path, sep='\\t')\n",
    "test_data = pd.read_csv(test_data_path, sep='\\t')"
   ]
  },
  {
   "cell_type": "code",
   "execution_count": 7,
   "id": "a1ef05bc",
   "metadata": {},
   "outputs": [],
   "source": [
    "train_corpus = train_data.text\n",
    "test_corpus = test_data.text"
   ]
  },
  {
   "cell_type": "code",
   "execution_count": 8,
   "id": "16311a7e",
   "metadata": {},
   "outputs": [],
   "source": [
    "train_labels = train_data['label']\n",
    "test_labels = test_data['label']"
   ]
  },
  {
   "cell_type": "code",
   "execution_count": 9,
   "id": "040fb550",
   "metadata": {},
   "outputs": [
    {
     "name": "stdout",
     "output_type": "stream",
     "text": [
      "train sise: 120000\n",
      "test size: 7600\n"
     ]
    }
   ],
   "source": [
    "print(f\"train sise: {len(train_data)}\")\n",
    "print(f\"test size: {len(test_data)}\")"
   ]
  },
  {
   "cell_type": "code",
   "execution_count": 10,
   "id": "8f2fb36c",
   "metadata": {},
   "outputs": [
    {
     "name": "stderr",
     "output_type": "stream",
     "text": [
      "100%|████████████████████████████████| 120000/120000 [00:01<00:00, 93273.50it/s]\n",
      "100%|███████████████████████████████████| 7600/7600 [00:00<00:00, 100966.09it/s]\n"
     ]
    }
   ],
   "source": [
    "def tokenize_text(texts):\n",
    "    return [re.findall(r'\\w+', text.lower()) for text in tqdm(texts)]\n",
    "\n",
    "train_data_tokenized = tokenize_text(train_corpus)\n",
    "test_data_tokenized = tokenize_text(test_corpus)"
   ]
  },
  {
   "cell_type": "code",
   "execution_count": 11,
   "id": "2c1d54be",
   "metadata": {},
   "outputs": [
    {
     "name": "stderr",
     "output_type": "stream",
     "text": [
      "100%|████████████████████████████████| 120000/120000 [00:08<00:00, 13419.63it/s]\n",
      "100%|████████████████████████████████████| 7600/7600 [00:00<00:00, 13574.19it/s]\n"
     ]
    }
   ],
   "source": [
    "stop_words = stopwords.words('english')\n",
    "\n",
    "def remove_stopwords(texts):\n",
    "    return [\n",
    "        [word for word in words if word not in stop_words]\n",
    "        for words in tqdm(texts)\n",
    "    ]\n",
    "\n",
    "train_data_tokenized = remove_stopwords(train_data_tokenized)\n",
    "test_data_tokenized = remove_stopwords(test_data_tokenized)"
   ]
  },
  {
   "cell_type": "code",
   "execution_count": 12,
   "id": "958c1528",
   "metadata": {},
   "outputs": [
    {
     "name": "stderr",
     "output_type": "stream",
     "text": [
      "100%|█████████████████████████████████| 120000/120000 [00:12<00:00, 9502.18it/s]\n",
      "100%|████████████████████████████████████| 7600/7600 [00:00<00:00, 11512.83it/s]\n"
     ]
    }
   ],
   "source": [
    "def lemmatize_text(texts):\n",
    "    lemmatizer = WordNetLemmatizer()\n",
    "    return [\n",
    "        [lemmatizer.lemmatize(word) for word in words]\n",
    "        for words in tqdm(texts)\n",
    "    ]\n",
    "\n",
    "train_data_lemmatized = lemmatize_text(train_data_tokenized)\n",
    "test_data_lemmatized = lemmatize_text(test_data_tokenized)"
   ]
  },
  {
   "cell_type": "markdown",
   "id": "949d8e13",
   "metadata": {},
   "source": [
    "## Embeddings"
   ]
  },
  {
   "cell_type": "code",
   "execution_count": 13,
   "id": "0962541b",
   "metadata": {},
   "outputs": [],
   "source": [
    "w2v_model = Word2Vec(\n",
    "    train_data_lemmatized,\n",
    "    vector_size=100,\n",
    "    min_count=5,\n",
    "    window=5\n",
    ").wv"
   ]
  },
  {
   "cell_type": "code",
   "execution_count": 14,
   "id": "637e5524",
   "metadata": {},
   "outputs": [
    {
     "name": "stderr",
     "output_type": "stream",
     "text": [
      "100%|████████████████████████████████| 120000/120000 [00:03<00:00, 30191.31it/s]\n",
      "100%|████████████████████████████████████| 7600/7600 [00:00<00:00, 28367.00it/s]\n"
     ]
    }
   ],
   "source": [
    "def encode_dataset(dataset):\n",
    "    encoded = []\n",
    "    for words in tqdm(dataset):\n",
    "        vectors = [w2v_model.get_vector(word) for word in words if word in w2v_model]\n",
    "        encoded.append(torch.from_numpy(np.array(vectors)))\n",
    "    return encoded\n",
    "\n",
    "train_embeddings = encode_dataset(train_data_lemmatized)\n",
    "test_embeddings = encode_dataset(test_data_lemmatized)"
   ]
  },
  {
   "cell_type": "code",
   "execution_count": 15,
   "id": "06a8efa9",
   "metadata": {},
   "outputs": [
    {
     "data": {
      "image/png": "[encoded data removed]",
      "text/plain": [
       "<Figure size 1000x600 with 1 Axes>"
      ]
     },
     "metadata": {},
     "output_type": "display_data"
    }
   ],
   "source": [
    "text_lens = [len(x) for x in train_embeddings]\n",
    "\n",
    "plt.figure(figsize=(10, 6))\n",
    "plt.hist(text_lens, bins=50)\n",
    "plt.xlabel(\"text length\", size=15)\n",
    "plt.xlabel(\"count\", size=15)\n",
    "plt.grid()\n",
    "plt.show()"
   ]
  },
  {
   "cell_type": "markdown",
   "id": "13ff67a3",
   "metadata": {},
   "source": [
    "## Dataloader"
   ]
  },
  {
   "cell_type": "code",
   "execution_count": 16,
   "id": "de86fc53",
   "metadata": {},
   "outputs": [],
   "source": [
    "train_dataset = list(zip(train_embeddings, train_labels))\n",
    "test_dataset = list(zip(test_embeddings, test_labels))"
   ]
  },
  {
   "cell_type": "code",
   "execution_count": 17,
   "id": "dde0c751",
   "metadata": {},
   "outputs": [],
   "source": [
    "def collate_fn(batch):\n",
    "    x, labels = zip(*batch)\n",
    "    return pad_sequence(x).permute(1, 0, 2), torch.tensor(labels)"
   ]
  },
  {
   "cell_type": "code",
   "execution_count": 18,
   "id": "322e38e9",
   "metadata": {},
   "outputs": [],
   "source": [
    "w2v_train_loader = DataLoader(train_dataset, collate_fn=collate_fn, shuffle=True, batch_size=32)\n",
    "w2v_test_loader = DataLoader(test_dataset, collate_fn=collate_fn, shuffle=False, batch_size=8)"
   ]
  },
  {
   "cell_type": "code",
   "execution_count": 19,
   "id": "85194183",
   "metadata": {},
   "outputs": [
    {
     "name": "stdout",
     "output_type": "stream",
     "text": [
      "torch.Size([32, 53, 100])\n"
     ]
    },
    {
     "data": {
      "text/plain": [
       "(tensor([[[ 0.0356,  0.4639, -0.1771,  ...,  0.1870, -0.0534, -0.2484],\n",
       "          [ 1.7351, -3.1082,  0.1002,  ..., -2.7402, -0.6524, -4.5370],\n",
       "          [ 0.5510, -0.2031, -0.6764,  ...,  0.1170, -0.5325, -0.5663],\n",
       "          ...,\n",
       "          [-0.4532, -0.4133, -1.7463,  ...,  1.0284, -2.7490,  1.1424],\n",
       "          [ 0.2637, -1.6686, -0.1973,  ..., -1.6795, -3.6260,  1.5278],\n",
       "          [ 0.0000,  0.0000,  0.0000,  ...,  0.0000,  0.0000,  0.0000]],\n",
       " \n",
       "         [[ 0.4068,  0.1982, -2.3062,  ..., -2.0291, -2.3351,  1.3839],\n",
       "          [ 0.8654,  0.4126, -0.8647,  ...,  1.3474, -1.3865, -0.8672],\n",
       "          [-0.4733, -2.0179, -0.3721,  ..., -1.8034,  1.5964,  0.7236],\n",
       "          ...,\n",
       "          [ 0.0000,  0.0000,  0.0000,  ...,  0.0000,  0.0000,  0.0000],\n",
       "          [ 0.0000,  0.0000,  0.0000,  ...,  0.0000,  0.0000,  0.0000],\n",
       "          [ 0.0000,  0.0000,  0.0000,  ...,  0.0000,  0.0000,  0.0000]],\n",
       " \n",
       "         [[-1.8510,  1.7366,  1.9420,  ..., -1.5229, -1.9120, -1.4961],\n",
       "          [-0.1332,  0.1386,  0.1784,  ..., -0.0148,  0.0306, -0.0229],\n",
       "          [-0.8879, -0.4939,  0.7820,  ...,  0.0302,  0.6724,  1.2322],\n",
       "          ...,\n",
       "          [ 0.0000,  0.0000,  0.0000,  ...,  0.0000,  0.0000,  0.0000],\n",
       "          [ 0.0000,  0.0000,  0.0000,  ...,  0.0000,  0.0000,  0.0000],\n",
       "          [ 0.0000,  0.0000,  0.0000,  ...,  0.0000,  0.0000,  0.0000]],\n",
       " \n",
       "         ...,\n",
       " \n",
       "         [[ 0.4530,  0.6243, -0.3044,  ..., -0.0392, -0.0098, -0.5027],\n",
       "          [ 0.2598,  0.6045,  0.9889,  ..., -0.0412,  0.2653,  1.3870],\n",
       "          [-3.1358, -0.6393,  0.2754,  ..., -3.8241,  1.6419, -2.7009],\n",
       "          ...,\n",
       "          [ 0.0000,  0.0000,  0.0000,  ...,  0.0000,  0.0000,  0.0000],\n",
       "          [ 0.0000,  0.0000,  0.0000,  ...,  0.0000,  0.0000,  0.0000],\n",
       "          [ 0.0000,  0.0000,  0.0000,  ...,  0.0000,  0.0000,  0.0000]],\n",
       " \n",
       "         [[-0.3361,  1.0722, -2.7520,  ...,  0.5243, -1.9428, -0.8547],\n",
       "          [-0.2073,  0.4103,  0.1871,  ..., -0.5639, -0.2603,  0.2133],\n",
       "          [-0.8113,  0.4421, -2.0276,  ...,  1.3087, -0.2176, -0.4522],\n",
       "          ...,\n",
       "          [ 0.0000,  0.0000,  0.0000,  ...,  0.0000,  0.0000,  0.0000],\n",
       "          [ 0.0000,  0.0000,  0.0000,  ...,  0.0000,  0.0000,  0.0000],\n",
       "          [ 0.0000,  0.0000,  0.0000,  ...,  0.0000,  0.0000,  0.0000]],\n",
       " \n",
       "         [[-0.1068,  0.0418, -0.1018,  ..., -0.0351,  0.0126, -0.0771],\n",
       "          [-0.8582,  0.0212,  0.0564,  ..., -0.0199,  0.7311, -0.8499],\n",
       "          [-0.0673,  0.0234, -0.0329,  ..., -0.0673,  0.0854, -0.0657],\n",
       "          ...,\n",
       "          [ 0.0000,  0.0000,  0.0000,  ...,  0.0000,  0.0000,  0.0000],\n",
       "          [ 0.0000,  0.0000,  0.0000,  ...,  0.0000,  0.0000,  0.0000],\n",
       "          [ 0.0000,  0.0000,  0.0000,  ...,  0.0000,  0.0000,  0.0000]]]),\n",
       " tensor([2, 2, 1, 3, 1, 1, 0, 1, 3, 3, 0, 2, 1, 3, 3, 2, 1, 3, 1, 0, 1, 2, 1, 0,\n",
       "         3, 0, 1, 2, 3, 2, 3, 3]))"
      ]
     },
     "execution_count": 19,
     "metadata": {},
     "output_type": "execute_result"
    }
   ],
   "source": [
    "batch = next(iter(w2v_train_loader))\n",
    "print(batch[0].shape)\n",
    "batch"
   ]
  },
  {
   "cell_type": "markdown",
   "id": "92d8ca10",
   "metadata": {},
   "source": [
    "## CNN"
   ]
  },
  {
   "cell_type": "code",
   "execution_count": 51,
   "id": "e3df128d",
   "metadata": {},
   "outputs": [
    {
     "data": {
      "text/plain": [
       "tensor([[-0.1630,  0.0634,  0.0085,  0.3411],\n",
       "        [-0.0073,  0.1743,  0.0030,  0.2526],\n",
       "        [-0.1060,  0.1517,  0.1127,  0.1177],\n",
       "        [-0.1950,  0.0594,  0.0767,  0.2082],\n",
       "        [-0.0810,  0.0971,  0.0608,  0.0664],\n",
       "        [-0.0723, -0.0100, -0.0104,  0.2572],\n",
       "        [ 0.0433,  0.0204, -0.0162,  0.1582],\n",
       "        [-0.0602,  0.1298,  0.1083,  0.1103],\n",
       "        [ 0.0351, -0.0083,  0.0069,  0.1284],\n",
       "        [-0.0426,  0.1917,  0.1165,  0.3026],\n",
       "        [ 0.0213, -0.0498, -0.0078,  0.1808],\n",
       "        [-0.0931,  0.0416,  0.0741,  0.1475],\n",
       "        [-0.1665,  0.2865,  0.0621,  0.1500],\n",
       "        [-0.1445,  0.1221,  0.1027,  0.1184],\n",
       "        [ 0.0063,  0.1794,  0.0732,  0.2207],\n",
       "        [-0.0889,  0.0705,  0.1369,  0.1756],\n",
       "        [-0.0926,  0.1266,  0.1931,  0.2147],\n",
       "        [-0.0731,  0.0405, -0.0300,  0.0731],\n",
       "        [-0.0277,  0.1130,  0.1276,  0.0694],\n",
       "        [ 0.0183,  0.0205,  0.0700,  0.0979],\n",
       "        [-0.1292,  0.1817,  0.0506,  0.0747],\n",
       "        [-0.0155, -0.0514,  0.0333,  0.1063],\n",
       "        [-0.0559,  0.0290,  0.0579, -0.0484],\n",
       "        [-0.0727,  0.2389,  0.0544,  0.2125],\n",
       "        [-0.1836, -0.0075, -0.0392,  0.0951],\n",
       "        [ 0.0404,  0.1317,  0.1028,  0.2651],\n",
       "        [ 0.0486,  0.0832, -0.0235,  0.0874],\n",
       "        [-0.0447, -0.0557,  0.0511,  0.1065],\n",
       "        [-0.0093,  0.0867, -0.0138,  0.1224],\n",
       "        [-0.1768,  0.1837,  0.0465,  0.1659],\n",
       "        [-0.1627,  0.0994,  0.0925,  0.1214],\n",
       "        [ 0.0015,  0.0473, -0.0777,  0.0683]], grad_fn=<AddmmBackward0>)"
      ]
     },
     "execution_count": 51,
     "metadata": {},
     "output_type": "execute_result"
    }
   ],
   "source": [
    "class SimpleCNN(nn.Module):\n",
    "    def __init__(self, hid_dim=100, n_classes=4):\n",
    "        super().__init__()\n",
    "        \n",
    "        self.conv1 = nn.Conv1d(\n",
    "            in_channels=hid_dim,\n",
    "            out_channels=hid_dim,\n",
    "            kernel_size=3,\n",
    "            stride=1,\n",
    "            padding=1\n",
    "        )\n",
    "        \n",
    "        self.conv2 = nn.Conv1d(\n",
    "            in_channels=hid_dim,\n",
    "            out_channels=hid_dim,\n",
    "            kernel_size=3,\n",
    "            stride=1,\n",
    "            padding=1\n",
    "        )\n",
    "        \n",
    "        self.fc = nn.Linear(hid_dim, n_classes)\n",
    "        self.relu = nn.ReLU()\n",
    "        \n",
    "    def forward(self, x: torch.Tensor):\n",
    "        # [batch_size, seq_len, hid_dim] -> [batch_size, hid_dim, seq_len]\n",
    "        x = x.permute(0, 2, 1)\n",
    "        \n",
    "        x = self.relu(self.conv1(x))\n",
    "        x = self.relu(self.conv2(x))\n",
    "        \n",
    "\n",
    "        x = F.max_pool1d(x, x.size(-1)).squeeze(dim=-1)\n",
    "        \n",
    "        x = self.fc(x)\n",
    "        return x\n",
    "    \n",
    "model = SimpleCNN()\n",
    "model(batch[0])"
   ]
  },
  {
   "cell_type": "code",
   "execution_count": 52,
   "id": "b7e9c36a",
   "metadata": {},
   "outputs": [],
   "source": [
    "def train_epoch(\n",
    "    model: nn.Module,\n",
    "    dataloader: DataLoader,\n",
    "    optimizer: torch.optim.Optimizer,\n",
    "    device: torch.device,\n",
    ") -> Tuple[float, float]:\n",
    "    \"\"\"Train model for one epoch.\n",
    "    \n",
    "    Args:\n",
    "        model: Neural network model\n",
    "        dataloader: Training data loader\n",
    "        optimizer: Optimization algorithm\n",
    "        device: Device to run training on (cpu/cuda)\n",
    "        logger: Optional logger function to track metrics\n",
    "        \n",
    "    Returns:\n",
    "        Tuple of (average loss, accuracy) for the epoch\n",
    "    \"\"\"\n",
    "    model.train()\n",
    "    criterion = nn.CrossEntropyLoss()\n",
    "    \n",
    "    total_loss = 0.0\n",
    "    total_correct = 0\n",
    "    total_samples = 0\n",
    "    \n",
    "    for batch_idx, (tokens, labels) in enumerate(dataloader):\n",
    "        tokens = tokens.to(device, non_blocking=True)\n",
    "        labels = labels.to(device, non_blocking=True)\n",
    "        \n",
    "        # Forward pass\n",
    "        logits = model(tokens)\n",
    "        loss = criterion(logits, labels)\n",
    "        \n",
    "        # Backward pass and optimize\n",
    "        optimizer.zero_grad(set_to_none=True)\n",
    "        loss.backward()\n",
    "        optimizer.step()\n",
    "        \n",
    "        # Calculate metrics\n",
    "        preds = logits.argmax(dim=-1)\n",
    "        correct = (preds == labels).sum().item()\n",
    "        \n",
    "        total_loss += loss.item() * labels.size(0)\n",
    "        total_correct += correct\n",
    "        total_samples += labels.size(0)\n",
    "    \n",
    "    # Calculate epoch metrics\n",
    "    avg_loss = total_loss / total_samples\n",
    "    accuracy = total_correct / total_samples\n",
    "    \n",
    "    return avg_loss, accuracy\n",
    "\n",
    "\n",
    "@torch.inference_mode()\n",
    "def evaluate(\n",
    "    model: nn.Module, \n",
    "    dataloader: DataLoader,\n",
    "    device: torch.device,\n",
    ") -> Tuple[float, float]:\n",
    "    \"\"\"Evaluate model performance.\n",
    "    \n",
    "    Args:\n",
    "        model: Neural network model\n",
    "        dataloader: Evaluation data loader\n",
    "        device: Device to run evaluation on (cpu/cuda)\n",
    "        logger: Optional logger function to track metrics\n",
    "        \n",
    "    Returns:\n",
    "        Tuple of (average loss, accuracy)\n",
    "    \"\"\"\n",
    "    model.eval()\n",
    "    criterion = nn.CrossEntropyLoss()\n",
    "    \n",
    "    total_loss = 0.0\n",
    "    total_correct = 0\n",
    "    total_samples = 0\n",
    "    \n",
    "    for tokens, labels in dataloader:\n",
    "        tokens = tokens.to(device)\n",
    "        labels = labels.to(device)\n",
    "        \n",
    "        logits = model(tokens)\n",
    "        loss = criterion(logits, labels)\n",
    "        \n",
    "        preds = logits.argmax(dim=-1)\n",
    "        correct = (preds == labels).sum().item()\n",
    "        \n",
    "        total_loss += loss.item() * labels.size(0)\n",
    "        total_correct += correct\n",
    "        total_samples += labels.size(0)\n",
    "    \n",
    "    avg_loss = total_loss / total_samples\n",
    "    accuracy = total_correct / total_samples\n",
    "    \n",
    "    return avg_loss, accuracy"
   ]
  },
  {
   "cell_type": "code",
   "execution_count": 53,
   "id": "6af0a468",
   "metadata": {},
   "outputs": [],
   "source": [
    "model = SimpleCNN().to(device)\n",
    "optimizer = torch.optim.Adam(\n",
    "    model.parameters(),\n",
    "    lr=1e-3,  # У learning rate\n",
    "    weight_decay=1e-5  # регуляризация\n",
    ")"
   ]
  },
  {
   "cell_type": "code",
   "execution_count": 54,
   "id": "ddc73e9f-82a7-4311-85c7-86a89d97b3ff",
   "metadata": {
    "tags": []
   },
   "outputs": [
    {
     "name": "stdout",
     "output_type": "stream",
     "text": [
      "Epoch 1: Train Loss: 0.3205, Acc: 0.8891 | Val Loss: 0.2892, Acc: 0.8987\n",
      "Epoch 2: Train Loss: 0.2644, Acc: 0.9075 | Val Loss: 0.2853, Acc: 0.9032\n",
      "Epoch 3: Train Loss: 0.2374, Acc: 0.9169 | Val Loss: 0.2797, Acc: 0.9033\n",
      "Epoch 4: Train Loss: 0.2173, Acc: 0.9238 | Val Loss: 0.2842, Acc: 0.9034\n",
      "Epoch 5: Train Loss: 0.1983, Acc: 0.9302 | Val Loss: 0.2838, Acc: 0.9092\n"
     ]
    }
   ],
   "source": [
    "num_epochs = 5\n",
    "for epoch in range(num_epochs):\n",
    "    train_loss, train_acc = train_epoch(\n",
    "        model=model,\n",
    "        dataloader=w2v_train_loader,\n",
    "        optimizer=optimizer,\n",
    "        device=device\n",
    "    )\n",
    "    val_loss, val_acc = evaluate(\n",
    "        model=model,\n",
    "        dataloader=w2v_test_loader,\n",
    "        device=device\n",
    "    )\n",
    "    \n",
    "    print(f\"Epoch {epoch+1}: Train Loss: {train_loss:.4f}, Acc: {train_acc:.4f} | \"\n",
    "          f\"Val Loss: {val_loss:.4f}, Acc: {val_acc:.4f}\")"
   ]
  },
  {
   "cell_type": "markdown",
   "id": "355361e5",
   "metadata": {},
   "source": [
    "[К содержанию](#Cодержание)"
   ]
  }
 ],
 "metadata": {
  "kernelspec": {
   "display_name": "Python 3 (ipykernel)",
   "language": "python",
   "name": "python3"
  },
  "language_info": {
   "codemirror_mode": {
    "name": "ipython",
    "version": 3
   },
   "file_extension": ".py",
   "mimetype": "text/x-python",
   "name": "python",
   "nbconvert_exporter": "python",
   "pygments_lexer": "ipython3",
   "version": "3.12.0"
  }
 },
 "nbformat": 4,
 "nbformat_minor": 5
}
