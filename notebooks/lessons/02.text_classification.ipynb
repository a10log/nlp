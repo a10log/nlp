{
 "cells": [
  {
   "cell_type": "markdown",
   "id": "5323a304",
   "metadata": {},
   "source": [
    "# Классификация текста"
   ]
  },
  {
   "cell_type": "markdown",
   "id": "ca872855",
   "metadata": {},
   "source": [
    "## Cодержание\n",
    "- [Data preprocessing](#Data-preprocessing)\n",
    "- [Embeddings](#Embeddings)\n",
    "- [Dataloader](#Dataloader)\n",
    "- [CNN](#CNN)"
   ]
  },
  {
   "cell_type": "code",
   "execution_count": 96,
   "id": "ecd4af63",
   "metadata": {},
   "outputs": [],
   "source": [
    "import os\n",
    "import re\n",
    "import torch\n",
    "import numpy as np\n",
    "import pandas as pd\n",
    "import matplotlib.pyplot as plt\n",
    "import torch.nn.functional as F\n",
    "\n",
    "from tqdm import tqdm\n",
    "from nltk.corpus import stopwords\n",
    "from nltk.stem import WordNetLemmatizer\n",
    "from gensim.models import Word2Vec\n",
    "from torch import nn\n",
    "from torch.utils.data import DataLoader\n",
    "from torch.nn.utils.rnn import pad_sequence"
   ]
  },
  {
   "cell_type": "code",
   "execution_count": 15,
   "id": "9c585673",
   "metadata": {},
   "outputs": [
    {
     "data": {
      "text/plain": [
       "device(type='cpu')"
      ]
     },
     "execution_count": 15,
     "metadata": {},
     "output_type": "execute_result"
    }
   ],
   "source": [
    "device = torch.device('cuda' if torch.cuda.is_available() else 'cpu')\n",
    "device"
   ]
  },
  {
   "cell_type": "code",
   "execution_count": 16,
   "id": "61a82185",
   "metadata": {},
   "outputs": [],
   "source": [
    "os.chdir('../../')"
   ]
  },
  {
   "cell_type": "code",
   "execution_count": 154,
   "id": "bbf747d7",
   "metadata": {},
   "outputs": [],
   "source": [
    "class Experiment:\n",
    "    \n",
    "    def __init__(self):\n",
    "        self.metrics = []\n",
    "        \n",
    "    def add_metrics(self, metrics: dict):\n",
    "        self.metrics.append(metrics)\n",
    "    \n",
    "    \n",
    "\n",
    "class Logger:\n",
    "    \n",
    "    def __init__(self):\n",
    "        self.experiments = {}\n",
    "        self.exp_name = None\n",
    "        \n",
    "    def init(self, name: str):\n",
    "        self.experiments.update({\n",
    "            name: Experiment()\n",
    "        })\n",
    "        self.exp_name = name\n",
    "    \n",
    "    def log(self, metrics: dict):\n",
    "        if self.exp_name is None:\n",
    "            raise Exception(\"Требуется инициализация эксперимента\")\n",
    "        self.experiments.get(self.exp_name).add_metrics(metrics)\n",
    "        \n",
    "        \n",
    "logger = Logger()"
   ]
  },
  {
   "cell_type": "markdown",
   "id": "ab488c38",
   "metadata": {},
   "source": [
    "## Data preprocessing"
   ]
  },
  {
   "cell_type": "code",
   "execution_count": 31,
   "id": "78e68f6d",
   "metadata": {},
   "outputs": [],
   "source": [
    "base_data_path = 'data/datasets/ag_news'\n",
    "\n",
    "train_data_path = os.path.join(base_data_path, 'ag_news_train.csv')\n",
    "test_data_path = os.path.join(base_data_path, 'ag_news_test.csv')"
   ]
  },
  {
   "cell_type": "code",
   "execution_count": 38,
   "id": "6158bc9c",
   "metadata": {},
   "outputs": [],
   "source": [
    "train_data = pd.read_csv(train_data_path, sep='\\t')\n",
    "test_data = pd.read_csv(test_data_path, sep='\\t')"
   ]
  },
  {
   "cell_type": "code",
   "execution_count": 40,
   "id": "a1ef05bc",
   "metadata": {},
   "outputs": [],
   "source": [
    "train_corpus = train_data.text\n",
    "test_corpus = test_data.text"
   ]
  },
  {
   "cell_type": "code",
   "execution_count": 41,
   "id": "16311a7e",
   "metadata": {},
   "outputs": [],
   "source": [
    "train_labels = train_data['label']\n",
    "test_labels = test_data['label']"
   ]
  },
  {
   "cell_type": "code",
   "execution_count": 42,
   "id": "040fb550",
   "metadata": {},
   "outputs": [
    {
     "name": "stdout",
     "output_type": "stream",
     "text": [
      "train sise: 120000\n",
      "test size: 7600\n"
     ]
    }
   ],
   "source": [
    "print(f\"train sise: {len(train_data)}\")\n",
    "print(f\"test size: {len(test_data)}\")"
   ]
  },
  {
   "cell_type": "code",
   "execution_count": 44,
   "id": "8f2fb36c",
   "metadata": {},
   "outputs": [
    {
     "name": "stderr",
     "output_type": "stream",
     "text": [
      "100%|████████████████████████████████| 120000/120000 [00:01<00:00, 82313.84it/s]\n",
      "100%|███████████████████████████████████| 7600/7600 [00:00<00:00, 107241.61it/s]\n"
     ]
    }
   ],
   "source": [
    "def tokenize_text(texts):\n",
    "    return [re.findall(r'\\w+', text.lower()) for text in tqdm(texts)]\n",
    "\n",
    "train_data_tokenized = tokenize_text(train_corpus)\n",
    "test_data_tokenized = tokenize_text(test_corpus)"
   ]
  },
  {
   "cell_type": "code",
   "execution_count": 51,
   "id": "2c1d54be",
   "metadata": {},
   "outputs": [
    {
     "name": "stderr",
     "output_type": "stream",
     "text": [
      "100%|████████████████████████████████| 120000/120000 [00:08<00:00, 13513.61it/s]\n",
      "100%|████████████████████████████████████| 7600/7600 [00:00<00:00, 13382.40it/s]\n"
     ]
    }
   ],
   "source": [
    "stop_words = stopwords.words('english')\n",
    "\n",
    "def remove_stopwords(texts):\n",
    "    return [\n",
    "        [word for word in words if word not in stop_words]\n",
    "        for words in tqdm(texts)\n",
    "    ]\n",
    "\n",
    "train_data_tokenized = remove_stopwords(train_data_tokenized)\n",
    "test_data_tokenized = remove_stopwords(test_data_tokenized)"
   ]
  },
  {
   "cell_type": "code",
   "execution_count": 55,
   "id": "958c1528",
   "metadata": {},
   "outputs": [
    {
     "name": "stderr",
     "output_type": "stream",
     "text": [
      "100%|████████████████████████████████| 120000/120000 [00:10<00:00, 11830.12it/s]\n",
      "100%|████████████████████████████████████| 7600/7600 [00:00<00:00, 11742.56it/s]\n"
     ]
    }
   ],
   "source": [
    "def lemmatize_text(texts):\n",
    "    lemmatizer = WordNetLemmatizer()\n",
    "    return [\n",
    "        [lemmatizer.lemmatize(word) for word in words]\n",
    "        for words in tqdm(texts)\n",
    "    ]\n",
    "\n",
    "train_data_lemmatized = lemmatize_text(train_data_tokenized)\n",
    "test_data_lemmatized = lemmatize_text(test_data_tokenized)"
   ]
  },
  {
   "cell_type": "markdown",
   "id": "949d8e13",
   "metadata": {},
   "source": [
    "## Embeddings"
   ]
  },
  {
   "cell_type": "code",
   "execution_count": 61,
   "id": "0962541b",
   "metadata": {},
   "outputs": [],
   "source": [
    "w2v_model = Word2Vec(\n",
    "    train_data_lemmatized,\n",
    "    vector_size=100,\n",
    "    min_count=5,\n",
    "    window=5\n",
    ").wv"
   ]
  },
  {
   "cell_type": "code",
   "execution_count": 63,
   "id": "637e5524",
   "metadata": {},
   "outputs": [
    {
     "name": "stderr",
     "output_type": "stream",
     "text": [
      "100%|████████████████████████████████| 120000/120000 [00:04<00:00, 24978.35it/s]\n",
      "100%|████████████████████████████████████| 7600/7600 [00:00<00:00, 24564.54it/s]\n"
     ]
    }
   ],
   "source": [
    "def encode_dataset(dataset):\n",
    "    encoded = []\n",
    "    for words in tqdm(dataset):\n",
    "        vectors = [w2v_model.get_vector(word) for word in words if word in w2v_model]\n",
    "        encoded.append(torch.from_numpy(np.array(vectors)))\n",
    "    return encoded\n",
    "\n",
    "train_embeddings = encode_dataset(train_data_lemmatized)\n",
    "test_embeddings = encode_dataset(test_data_lemmatized)"
   ]
  },
  {
   "cell_type": "code",
   "execution_count": 65,
   "id": "06a8efa9",
   "metadata": {},
   "outputs": [
    {
     "data": {
      "image/png": "[encoded data removed]",
      "text/plain": [
       "<Figure size 1000x600 with 1 Axes>"
      ]
     },
     "metadata": {},
     "output_type": "display_data"
    }
   ],
   "source": [
    "text_lens = [len(x) for x in train_embeddings]\n",
    "\n",
    "plt.figure(figsize=(10, 6))\n",
    "plt.hist(text_lens, bins=50)\n",
    "plt.xlabel(\"text length\", size=15)\n",
    "plt.xlabel(\"count\", size=15)\n",
    "plt.grid()\n",
    "plt.show()"
   ]
  },
  {
   "cell_type": "markdown",
   "id": "13ff67a3",
   "metadata": {},
   "source": [
    "## Dataloader"
   ]
  },
  {
   "cell_type": "code",
   "execution_count": 146,
   "id": "de86fc53",
   "metadata": {},
   "outputs": [],
   "source": [
    "train_dataset = list(zip(train_embeddings, train_labels))\n",
    "test_dataset = list(zip(test_embeddings, test_labels))"
   ]
  },
  {
   "cell_type": "code",
   "execution_count": 147,
   "id": "dde0c751",
   "metadata": {},
   "outputs": [],
   "source": [
    "def collate_fn(batch):\n",
    "    x, labels = zip(*batch)\n",
    "    return pad_sequence(x).permute(1, 0, 2), torch.tensor(labels)"
   ]
  },
  {
   "cell_type": "code",
   "execution_count": 148,
   "id": "322e38e9",
   "metadata": {},
   "outputs": [],
   "source": [
    "w2v_train_loader = DataLoader(train_dataset, collate_fn=collate_fn, shuffle=True, batch_size=32)\n",
    "w2v_test_loader = DataLoader(test_dataset, collate_fn=collate_fn, shuffle=False, batch_size=8)"
   ]
  },
  {
   "cell_type": "code",
   "execution_count": 94,
   "id": "85194183",
   "metadata": {},
   "outputs": [
    {
     "name": "stdout",
     "output_type": "stream",
     "text": [
      "torch.Size([32, 43, 100])\n"
     ]
    },
    {
     "data": {
      "text/plain": [
       "(tensor([[[ 1.2251e-01,  7.8375e-01,  1.5363e+00,  ..., -1.0553e+00,\n",
       "           -7.1905e-01,  1.0314e+00],\n",
       "          [-7.7629e-02,  1.0159e-01,  8.5800e-03,  ..., -5.6378e-02,\n",
       "            3.9943e-02,  5.8541e-02],\n",
       "          [ 1.7985e-01, -1.5852e-01, -1.2184e+00,  ..., -1.7781e+00,\n",
       "            4.5035e-01, -2.1412e-01],\n",
       "          ...,\n",
       "          [ 0.0000e+00,  0.0000e+00,  0.0000e+00,  ...,  0.0000e+00,\n",
       "            0.0000e+00,  0.0000e+00],\n",
       "          [ 0.0000e+00,  0.0000e+00,  0.0000e+00,  ...,  0.0000e+00,\n",
       "            0.0000e+00,  0.0000e+00],\n",
       "          [ 0.0000e+00,  0.0000e+00,  0.0000e+00,  ...,  0.0000e+00,\n",
       "            0.0000e+00,  0.0000e+00]],\n",
       " \n",
       "         [[-1.8108e-02,  6.5831e-02,  4.8880e-01,  ..., -9.6514e-02,\n",
       "            9.5142e-01,  4.6532e-01],\n",
       "          [ 2.7291e-01, -5.8471e-01, -1.7775e+00,  ...,  1.0767e-01,\n",
       "            5.4018e-01,  6.5280e-01],\n",
       "          [-2.5151e-01, -3.7193e-01,  2.2805e-01,  ..., -3.7696e-01,\n",
       "           -1.2132e+00,  1.6046e+00],\n",
       "          ...,\n",
       "          [ 0.0000e+00,  0.0000e+00,  0.0000e+00,  ...,  0.0000e+00,\n",
       "            0.0000e+00,  0.0000e+00],\n",
       "          [ 0.0000e+00,  0.0000e+00,  0.0000e+00,  ...,  0.0000e+00,\n",
       "            0.0000e+00,  0.0000e+00],\n",
       "          [ 0.0000e+00,  0.0000e+00,  0.0000e+00,  ...,  0.0000e+00,\n",
       "            0.0000e+00,  0.0000e+00]],\n",
       " \n",
       "         [[-6.0146e-01,  4.7989e-01,  1.0618e-01,  ..., -1.1599e+00,\n",
       "            1.3503e+00, -1.0646e+00],\n",
       "          [ 4.1014e-02,  2.7130e-01, -2.5134e-01,  ..., -7.6836e-01,\n",
       "            8.0657e-01, -8.2923e-01],\n",
       "          [ 2.6687e+00,  3.5383e-01,  1.1614e+00,  ...,  3.9418e+00,\n",
       "           -3.7048e+00,  1.2135e+00],\n",
       "          ...,\n",
       "          [ 0.0000e+00,  0.0000e+00,  0.0000e+00,  ...,  0.0000e+00,\n",
       "            0.0000e+00,  0.0000e+00],\n",
       "          [ 0.0000e+00,  0.0000e+00,  0.0000e+00,  ...,  0.0000e+00,\n",
       "            0.0000e+00,  0.0000e+00],\n",
       "          [ 0.0000e+00,  0.0000e+00,  0.0000e+00,  ...,  0.0000e+00,\n",
       "            0.0000e+00,  0.0000e+00]],\n",
       " \n",
       "         ...,\n",
       " \n",
       "         [[-1.5411e+00,  7.3735e-01, -2.0851e-01,  ..., -1.1314e+00,\n",
       "           -2.7333e-03, -2.3875e+00],\n",
       "          [-5.8174e-01, -1.9463e-01, -1.4126e-01,  ...,  4.5416e-01,\n",
       "           -1.7921e-02, -1.5161e+00],\n",
       "          [-1.2029e+00, -2.1403e-01, -1.0675e+00,  ..., -9.1622e-01,\n",
       "            6.2022e-01, -1.3932e+00],\n",
       "          ...,\n",
       "          [ 0.0000e+00,  0.0000e+00,  0.0000e+00,  ...,  0.0000e+00,\n",
       "            0.0000e+00,  0.0000e+00],\n",
       "          [ 0.0000e+00,  0.0000e+00,  0.0000e+00,  ...,  0.0000e+00,\n",
       "            0.0000e+00,  0.0000e+00],\n",
       "          [ 0.0000e+00,  0.0000e+00,  0.0000e+00,  ...,  0.0000e+00,\n",
       "            0.0000e+00,  0.0000e+00]],\n",
       " \n",
       "         [[-1.5224e-01,  3.3568e-01,  6.0577e-01,  ..., -4.4273e-01,\n",
       "            3.1712e-01, -6.1622e-02],\n",
       "          [-3.4508e-01,  4.1700e-01,  3.9441e-01,  ..., -7.0611e-01,\n",
       "            1.4451e-01, -8.4269e-02],\n",
       "          [-1.4079e+00, -4.3133e-01,  6.1744e-01,  ..., -8.2259e-01,\n",
       "            7.4363e-01,  1.6822e-01],\n",
       "          ...,\n",
       "          [ 0.0000e+00,  0.0000e+00,  0.0000e+00,  ...,  0.0000e+00,\n",
       "            0.0000e+00,  0.0000e+00],\n",
       "          [ 0.0000e+00,  0.0000e+00,  0.0000e+00,  ...,  0.0000e+00,\n",
       "            0.0000e+00,  0.0000e+00],\n",
       "          [ 0.0000e+00,  0.0000e+00,  0.0000e+00,  ...,  0.0000e+00,\n",
       "            0.0000e+00,  0.0000e+00]],\n",
       " \n",
       "         [[-5.2805e-01, -3.1488e-01, -5.0653e-01,  ..., -9.4954e-02,\n",
       "            6.4379e-01, -3.6893e-01],\n",
       "          [ 3.5500e-01,  3.7832e-01, -7.2714e-01,  ...,  1.6696e+00,\n",
       "           -5.1323e-01, -9.5173e-01],\n",
       "          [-2.4526e-03,  9.3718e-02,  1.8692e-02,  ..., -3.1786e-02,\n",
       "           -1.3448e-02, -4.3622e-02],\n",
       "          ...,\n",
       "          [ 0.0000e+00,  0.0000e+00,  0.0000e+00,  ...,  0.0000e+00,\n",
       "            0.0000e+00,  0.0000e+00],\n",
       "          [ 0.0000e+00,  0.0000e+00,  0.0000e+00,  ...,  0.0000e+00,\n",
       "            0.0000e+00,  0.0000e+00],\n",
       "          [ 0.0000e+00,  0.0000e+00,  0.0000e+00,  ...,  0.0000e+00,\n",
       "            0.0000e+00,  0.0000e+00]]]),\n",
       " tensor([3, 1, 3, 1, 0, 0, 0, 0, 1, 2, 3, 3, 2, 3, 0, 3, 0, 0, 3, 2, 1, 2, 1, 2,\n",
       "         2, 2, 1, 1, 1, 3, 1, 2]))"
      ]
     },
     "execution_count": 94,
     "metadata": {},
     "output_type": "execute_result"
    }
   ],
   "source": [
    "batch = next(iter(w2v_train_loader))\n",
    "print(batch[0].shape)\n",
    "batch"
   ]
  },
  {
   "cell_type": "markdown",
   "id": "92d8ca10",
   "metadata": {},
   "source": [
    "## CNN"
   ]
  },
  {
   "cell_type": "code",
   "execution_count": 130,
   "id": "e3df128d",
   "metadata": {},
   "outputs": [
    {
     "data": {
      "text/plain": [
       "tensor([[ 0.0348,  0.0336,  0.0802,  0.2069],\n",
       "        [-0.0738, -0.0078,  0.2268,  0.3623],\n",
       "        [-0.0021,  0.0531,  0.1772,  0.4460],\n",
       "        [ 0.1414, -0.0027,  0.1635,  0.4954],\n",
       "        [-0.0529, -0.0018,  0.1422,  0.3442],\n",
       "        [-0.0157,  0.0317,  0.3764,  0.3208],\n",
       "        [ 0.0894, -0.0551,  0.1475,  0.4378],\n",
       "        [-0.1362, -0.0408,  0.3113,  0.3071],\n",
       "        [ 0.0403,  0.0174,  0.1700,  0.4209],\n",
       "        [-0.0788,  0.0264,  0.2748,  0.4453],\n",
       "        [ 0.1287,  0.0759,  0.1961,  0.3482],\n",
       "        [ 0.0303, -0.0008,  0.1938,  0.2976],\n",
       "        [-0.0226, -0.0719,  0.1787,  0.4252],\n",
       "        [-0.0492, -0.0311,  0.2592,  0.4568],\n",
       "        [ 0.0261, -0.0182,  0.3123,  0.4195],\n",
       "        [ 0.0989, -0.0512,  0.1744,  0.3885],\n",
       "        [ 0.0313, -0.0272,  0.2904,  0.5103],\n",
       "        [ 0.0554, -0.1083,  0.1730,  0.3183],\n",
       "        [ 0.2112, -0.1009,  0.1005,  0.3412],\n",
       "        [ 0.1469,  0.0874,  0.1861,  0.3506],\n",
       "        [ 0.0303,  0.0277,  0.1732,  0.4212],\n",
       "        [ 0.0907,  0.0022,  0.2699,  0.5435],\n",
       "        [-0.0508,  0.0176,  0.1480,  0.5327],\n",
       "        [ 0.0825,  0.1767,  0.1883,  0.4486],\n",
       "        [ 0.1576, -0.0781,  0.3538,  0.2839],\n",
       "        [ 0.1398,  0.0207,  0.2412,  0.3781],\n",
       "        [-0.0590, -0.0465,  0.1576,  0.4433],\n",
       "        [ 0.2004,  0.1209,  0.3170,  0.5079],\n",
       "        [ 0.0389, -0.0263,  0.1984,  0.3311],\n",
       "        [ 0.0248,  0.0184,  0.1569,  0.3593],\n",
       "        [ 0.0029,  0.0068,  0.2820,  0.2973],\n",
       "        [-0.0208,  0.0402,  0.2550,  0.3561]], grad_fn=<AddmmBackward0>)"
      ]
     },
     "execution_count": 130,
     "metadata": {},
     "output_type": "execute_result"
    }
   ],
   "source": [
    "class SimpleCNN(nn.Module):\n",
    "    \n",
    "    def __init__(self, hid_dim=100, n_classes=4):\n",
    "        super().__init__()\n",
    "        \n",
    "        self.conv1 = nn.Conv1d(\n",
    "            in_channels=hid_dim,\n",
    "            out_channels=hid_dim,\n",
    "            kernel_size=3,\n",
    "            stride=1,\n",
    "            padding=0\n",
    "        )\n",
    "        \n",
    "        self.conv2 = nn.Conv1d(\n",
    "            in_channels=hid_dim,\n",
    "            out_channels=hid_dim,\n",
    "            kernel_size=3,\n",
    "            stride=1,\n",
    "            padding=0\n",
    "        )\n",
    "        self.fc = nn.Linear(\n",
    "            in_features=hid_dim,\n",
    "            out_features=n_classes\n",
    "        )\n",
    "        self.relu = nn.ReLU()\n",
    "        \n",
    "    def forward(self, x: torch.Tensor):\n",
    "    \n",
    "        # [batch_size, seq_len, dim] -> [batch_size, dim, seq_len]\n",
    "        x = x.permute(0, 2, 1)\n",
    "        x = self.relu(self.conv1(x))\n",
    "        x = self.relu(self.conv2(x))\n",
    "        \n",
    "        x = F.max_pool1d(x, x.size(-1)).squeeze(dim=-1)\n",
    "        \n",
    "        x = self.fc(x)\n",
    "        return x\n",
    "    \n",
    "model = SimpleCNN()\n",
    "model(batch[0])"
   ]
  },
  {
   "cell_type": "code",
   "execution_count": 165,
   "id": "b7e9c36a",
   "metadata": {},
   "outputs": [],
   "source": [
    "def train(\n",
    "    model: nn.Module,\n",
    "    dataloader: DataLoader,\n",
    "    optimizer\n",
    "):\n",
    "    model.train()\n",
    "    criterion = nn.CrossEntropyLoss()\n",
    "    \n",
    "    correct = []\n",
    "    losses = []\n",
    "    \n",
    "    for i, (tokens, labels) in enumerate(dataloader):\n",
    "        tokens = tokens.to(device)\n",
    "        labels = labels.to(device)\n",
    "        \n",
    "        logits = model(tokens)\n",
    "        loss = criterion(logits, labels)\n",
    "        \n",
    "        optimizer.zero_grad()\n",
    "        loss.backward()\n",
    "        optimizer.step()\n",
    "        \n",
    "        correct.extend((logits.argmax(-1) == labels).float().cpu())\n",
    "        losses.append(loss.item())\n",
    "        \n",
    "    mean_loss = np.mean(losses)\n",
    "    accuracy = np.mean(correct)\n",
    "    \n",
    "    logger.log({\n",
    "        \"train_loss\": loss.item(),\n",
    "        \"train_accuracy\": accuracy\n",
    "    })\n",
    "        \n",
    "\n",
    "@torch.inference_mode()\n",
    "def evaluate(\n",
    "    model: nn.Module, \n",
    "    dataloader: DataLoader\n",
    "):\n",
    "    \n",
    "    model.eval()\n",
    "    criterion = nn.CrossEntropyLoss()\n",
    "    \n",
    "    correct = []\n",
    "    losses = []\n",
    "    \n",
    "    for i, (tokens, labels) in enumerate(dataloader):\n",
    "        tokens = tokens.to(device)\n",
    "        labels = labels.to(device)\n",
    "        \n",
    "        logits = model(tokens)\n",
    "        loss = criterion(logits, labels)\n",
    "        \n",
    "        correct.extend((logits.argmax(-1) == labels).float().cpu())\n",
    "        losses.append(loss.item())\n",
    "        \n",
    "    mean_loss = np.mean(losses)\n",
    "    accuracy = np.mean(correct)\n",
    "    \n",
    "    logger.log({\n",
    "        \"test_loss\": mean_loss,\n",
    "        \"test_accuracy\": accuracy\n",
    "    })"
   ]
  },
  {
   "cell_type": "code",
   "execution_count": 155,
   "id": "469bd4e1",
   "metadata": {},
   "outputs": [],
   "source": [
    "logger.init(\"SimpleCNN\")"
   ]
  },
  {
   "cell_type": "code",
   "execution_count": 166,
   "id": "6af0a468",
   "metadata": {},
   "outputs": [],
   "source": [
    "model = SimpleCNN().to(device)\n",
    "optimizer = torch.optim.Adam(\n",
    "    model.parameters(),\n",
    "    lr=1e-4,\n",
    "    weight_decay=1e3\n",
    ")"
   ]
  },
  {
   "cell_type": "code",
   "execution_count": 167,
   "id": "4b0d6c68",
   "metadata": {},
   "outputs": [
    {
     "name": "stderr",
     "output_type": "stream",
     "text": [
      "100%|████████████████████████████████████████████| 5/5 [09:16<00:00, 111.24s/it]\n"
     ]
    }
   ],
   "source": [
    "for epoch in tqdm(range(5)):\n",
    "    train(model, w2v_train_loader, optimizer)\n",
    "    evaluate(model, w2v_test_loader)"
   ]
  },
  {
   "cell_type": "code",
   "execution_count": null,
   "id": "bebb1eea",
   "metadata": {},
   "outputs": [],
   "source": []
  },
  {
   "cell_type": "code",
   "execution_count": null,
   "id": "316d8fad",
   "metadata": {},
   "outputs": [],
   "source": []
  },
  {
   "cell_type": "markdown",
   "id": "355361e5",
   "metadata": {},
   "source": [
    "[К содержанию](#Cодержание)"
   ]
  }
 ],
 "metadata": {
  "kernelspec": {
   "display_name": "Python 3 (ipykernel)",
   "language": "python",
   "name": "python3"
  },
  "language_info": {
   "codemirror_mode": {
    "name": "ipython",
    "version": 3
   },
   "file_extension": ".py",
   "mimetype": "text/x-python",
   "name": "python",
   "nbconvert_exporter": "python",
   "pygments_lexer": "ipython3",
   "version": "3.12.0"
  }
 },
 "nbformat": 4,
 "nbformat_minor": 5
}
